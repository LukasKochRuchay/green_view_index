{
 "cells": [
  {
   "cell_type": "code",
   "execution_count": 5,
   "metadata": {},
   "outputs": [],
   "source": [
    "import pandas as pd\n",
    "import geopandas as gpd\n",
    "import numpy as np\n",
    "from shapely.geometry import Polygon, LineString, Point\n",
    "from shapely.ops import unary_union\n",
    "from shapely import wkt\n",
    "import folium\n",
    "from PIL import Image, UnidentifiedImageError\n",
    "import osmnx as ox\n",
    "from IPython.display import display\n",
    "import os\n",
    "import sys\n",
    "sys.path.append(os.path.abspath(\"..\"))\n",
    "from src.gvi_funcs import greenviewindex\n",
    "from src.gvi_funcs import get_edges\n",
    "from src.gvi_funcs import extract_edge_data"
   ]
  },
  {
   "cell_type": "code",
   "execution_count": 9,
   "metadata": {},
   "outputs": [],
   "source": [
    "def load_image(filename):\n",
    "    file_path = os.path.join(image_dir, filename)\n",
    "    if os.path.exists(file_path):\n",
    "        try:\n",
    "            return Image.open(file_path)\n",
    "        except UnidentifiedImageError:\n",
    "            print(f\"Warning: Unidentifiable image file {file_path}\")\n",
    "            return None \n",
    "    else:\n",
    "        return None  "
   ]
  },
  {
   "cell_type": "code",
   "execution_count": 10,
   "metadata": {},
   "outputs": [],
   "source": [
    "df = pd.read_csv('../data/image_metadata_xx.csv')\n",
    "image_dir = '../data/images_xx'"
   ]
  },
  {
   "cell_type": "code",
   "execution_count": null,
   "metadata": {},
   "outputs": [],
   "source": [
    "df[\"image\"] = df[\"filename\"].apply(load_image)"
   ]
  },
  {
   "cell_type": "code",
   "execution_count": 12,
   "metadata": {},
   "outputs": [
    {
     "data": {
      "text/html": [
       "<div>\n",
       "<style scoped>\n",
       "    .dataframe tbody tr th:only-of-type {\n",
       "        vertical-align: middle;\n",
       "    }\n",
       "\n",
       "    .dataframe tbody tr th {\n",
       "        vertical-align: top;\n",
       "    }\n",
       "\n",
       "    .dataframe thead th {\n",
       "        text-align: right;\n",
       "    }\n",
       "</style>\n",
       "<table border=\"1\" class=\"dataframe\">\n",
       "  <thead>\n",
       "    <tr style=\"text-align: right;\">\n",
       "      <th></th>\n",
       "      <th>Filename</th>\n",
       "      <th>Date</th>\n",
       "      <th>Point</th>\n",
       "      <th>OriginalMode</th>\n",
       "      <th>Image</th>\n",
       "    </tr>\n",
       "  </thead>\n",
       "  <tbody>\n",
       "    <tr>\n",
       "      <th>0</th>\n",
       "      <td>image_0.jpg</td>\n",
       "      <td>2022-09-01</td>\n",
       "      <td>POINT (13.4477389 52.526513)</td>\n",
       "      <td>RGB</td>\n",
       "      <td>&lt;PIL.JpegImagePlugin.JpegImageFile image mode=...</td>\n",
       "    </tr>\n",
       "    <tr>\n",
       "      <th>1</th>\n",
       "      <td>image_1.jpg</td>\n",
       "      <td>2022-09-01</td>\n",
       "      <td>POINT (13.4477389 52.526513)</td>\n",
       "      <td>RGB</td>\n",
       "      <td>&lt;PIL.JpegImagePlugin.JpegImageFile image mode=...</td>\n",
       "    </tr>\n",
       "    <tr>\n",
       "      <th>2</th>\n",
       "      <td>image_2.jpg</td>\n",
       "      <td>2022-09-01</td>\n",
       "      <td>POINT (13.4477389 52.526513)</td>\n",
       "      <td>RGB</td>\n",
       "      <td>&lt;PIL.JpegImagePlugin.JpegImageFile image mode=...</td>\n",
       "    </tr>\n",
       "    <tr>\n",
       "      <th>3</th>\n",
       "      <td>image_3.jpg</td>\n",
       "      <td>2022-09-01</td>\n",
       "      <td>POINT (13.4477389 52.526513)</td>\n",
       "      <td>RGB</td>\n",
       "      <td>&lt;PIL.JpegImagePlugin.JpegImageFile image mode=...</td>\n",
       "    </tr>\n",
       "    <tr>\n",
       "      <th>4</th>\n",
       "      <td>image_4.jpg</td>\n",
       "      <td>2022-08-01</td>\n",
       "      <td>POINT (13.44700535080915 52.52719249588597)</td>\n",
       "      <td>RGB</td>\n",
       "      <td>&lt;PIL.JpegImagePlugin.JpegImageFile image mode=...</td>\n",
       "    </tr>\n",
       "    <tr>\n",
       "      <th>5</th>\n",
       "      <td>image_5.jpg</td>\n",
       "      <td>2022-08-01</td>\n",
       "      <td>POINT (13.44700535080915 52.52719249588597)</td>\n",
       "      <td>RGB</td>\n",
       "      <td>&lt;PIL.JpegImagePlugin.JpegImageFile image mode=...</td>\n",
       "    </tr>\n",
       "    <tr>\n",
       "      <th>6</th>\n",
       "      <td>image_6.jpg</td>\n",
       "      <td>2022-08-01</td>\n",
       "      <td>POINT (13.44700535080915 52.52719249588597)</td>\n",
       "      <td>RGB</td>\n",
       "      <td>&lt;PIL.JpegImagePlugin.JpegImageFile image mode=...</td>\n",
       "    </tr>\n",
       "    <tr>\n",
       "      <th>7</th>\n",
       "      <td>image_7.jpg</td>\n",
       "      <td>2022-08-01</td>\n",
       "      <td>POINT (13.44700535080915 52.52719249588597)</td>\n",
       "      <td>RGB</td>\n",
       "      <td>&lt;PIL.JpegImagePlugin.JpegImageFile image mode=...</td>\n",
       "    </tr>\n",
       "    <tr>\n",
       "      <th>8</th>\n",
       "      <td>image_8.jpg</td>\n",
       "      <td>2022-08-01</td>\n",
       "      <td>POINT (13.4287152 52.5375413)</td>\n",
       "      <td>RGB</td>\n",
       "      <td>&lt;PIL.JpegImagePlugin.JpegImageFile image mode=...</td>\n",
       "    </tr>\n",
       "    <tr>\n",
       "      <th>9</th>\n",
       "      <td>image_9.jpg</td>\n",
       "      <td>2022-08-01</td>\n",
       "      <td>POINT (13.4287152 52.5375413)</td>\n",
       "      <td>RGB</td>\n",
       "      <td>&lt;PIL.JpegImagePlugin.JpegImageFile image mode=...</td>\n",
       "    </tr>\n",
       "    <tr>\n",
       "      <th>10</th>\n",
       "      <td>image_10.jpg</td>\n",
       "      <td>2022-08-01</td>\n",
       "      <td>POINT (13.4287152 52.5375413)</td>\n",
       "      <td>RGB</td>\n",
       "      <td>&lt;PIL.JpegImagePlugin.JpegImageFile image mode=...</td>\n",
       "    </tr>\n",
       "    <tr>\n",
       "      <th>11</th>\n",
       "      <td>image_11.jpg</td>\n",
       "      <td>2022-08-01</td>\n",
       "      <td>POINT (13.4287152 52.5375413)</td>\n",
       "      <td>RGB</td>\n",
       "      <td>&lt;PIL.JpegImagePlugin.JpegImageFile image mode=...</td>\n",
       "    </tr>\n",
       "  </tbody>\n",
       "</table>\n",
       "</div>"
      ],
      "text/plain": [
       "        Filename        Date                                        Point  \\\n",
       "0    image_0.jpg  2022-09-01                 POINT (13.4477389 52.526513)   \n",
       "1    image_1.jpg  2022-09-01                 POINT (13.4477389 52.526513)   \n",
       "2    image_2.jpg  2022-09-01                 POINT (13.4477389 52.526513)   \n",
       "3    image_3.jpg  2022-09-01                 POINT (13.4477389 52.526513)   \n",
       "4    image_4.jpg  2022-08-01  POINT (13.44700535080915 52.52719249588597)   \n",
       "5    image_5.jpg  2022-08-01  POINT (13.44700535080915 52.52719249588597)   \n",
       "6    image_6.jpg  2022-08-01  POINT (13.44700535080915 52.52719249588597)   \n",
       "7    image_7.jpg  2022-08-01  POINT (13.44700535080915 52.52719249588597)   \n",
       "8    image_8.jpg  2022-08-01                POINT (13.4287152 52.5375413)   \n",
       "9    image_9.jpg  2022-08-01                POINT (13.4287152 52.5375413)   \n",
       "10  image_10.jpg  2022-08-01                POINT (13.4287152 52.5375413)   \n",
       "11  image_11.jpg  2022-08-01                POINT (13.4287152 52.5375413)   \n",
       "\n",
       "   OriginalMode                                              Image  \n",
       "0           RGB  <PIL.JpegImagePlugin.JpegImageFile image mode=...  \n",
       "1           RGB  <PIL.JpegImagePlugin.JpegImageFile image mode=...  \n",
       "2           RGB  <PIL.JpegImagePlugin.JpegImageFile image mode=...  \n",
       "3           RGB  <PIL.JpegImagePlugin.JpegImageFile image mode=...  \n",
       "4           RGB  <PIL.JpegImagePlugin.JpegImageFile image mode=...  \n",
       "5           RGB  <PIL.JpegImagePlugin.JpegImageFile image mode=...  \n",
       "6           RGB  <PIL.JpegImagePlugin.JpegImageFile image mode=...  \n",
       "7           RGB  <PIL.JpegImagePlugin.JpegImageFile image mode=...  \n",
       "8           RGB  <PIL.JpegImagePlugin.JpegImageFile image mode=...  \n",
       "9           RGB  <PIL.JpegImagePlugin.JpegImageFile image mode=...  \n",
       "10          RGB  <PIL.JpegImagePlugin.JpegImageFile image mode=...  \n",
       "11          RGB  <PIL.JpegImagePlugin.JpegImageFile image mode=...  "
      ]
     },
     "execution_count": 12,
     "metadata": {},
     "output_type": "execute_result"
    }
   ],
   "source": [
    "df"
   ]
  },
  {
   "cell_type": "code",
   "execution_count": 7,
   "metadata": {},
   "outputs": [],
   "source": [
    "df['gvi'] = greenviewindex(df.Image)"
   ]
  },
  {
   "cell_type": "code",
   "execution_count": 8,
   "metadata": {},
   "outputs": [
    {
     "data": {
      "text/html": [
       "<div>\n",
       "<style scoped>\n",
       "    .dataframe tbody tr th:only-of-type {\n",
       "        vertical-align: middle;\n",
       "    }\n",
       "\n",
       "    .dataframe tbody tr th {\n",
       "        vertical-align: top;\n",
       "    }\n",
       "\n",
       "    .dataframe thead th {\n",
       "        text-align: right;\n",
       "    }\n",
       "</style>\n",
       "<table border=\"1\" class=\"dataframe\">\n",
       "  <thead>\n",
       "    <tr style=\"text-align: right;\">\n",
       "      <th></th>\n",
       "      <th>Filename</th>\n",
       "      <th>Date</th>\n",
       "      <th>Point</th>\n",
       "      <th>OriginalMode</th>\n",
       "      <th>Image</th>\n",
       "      <th>gvi</th>\n",
       "    </tr>\n",
       "  </thead>\n",
       "  <tbody>\n",
       "    <tr>\n",
       "      <th>0</th>\n",
       "      <td>image_0.jpg</td>\n",
       "      <td>2022-09-01</td>\n",
       "      <td>POINT (13.4477389 52.526513)</td>\n",
       "      <td>RGB</td>\n",
       "      <td>&lt;PIL.JpegImagePlugin.JpegImageFile image mode=...</td>\n",
       "      <td>10.266875</td>\n",
       "    </tr>\n",
       "    <tr>\n",
       "      <th>1</th>\n",
       "      <td>image_1.jpg</td>\n",
       "      <td>2022-09-01</td>\n",
       "      <td>POINT (13.4477389 52.526513)</td>\n",
       "      <td>RGB</td>\n",
       "      <td>&lt;PIL.JpegImagePlugin.JpegImageFile image mode=...</td>\n",
       "      <td>12.220625</td>\n",
       "    </tr>\n",
       "    <tr>\n",
       "      <th>2</th>\n",
       "      <td>image_2.jpg</td>\n",
       "      <td>2022-09-01</td>\n",
       "      <td>POINT (13.4477389 52.526513)</td>\n",
       "      <td>RGB</td>\n",
       "      <td>&lt;PIL.JpegImagePlugin.JpegImageFile image mode=...</td>\n",
       "      <td>4.751875</td>\n",
       "    </tr>\n",
       "    <tr>\n",
       "      <th>3</th>\n",
       "      <td>image_3.jpg</td>\n",
       "      <td>2022-09-01</td>\n",
       "      <td>POINT (13.4477389 52.526513)</td>\n",
       "      <td>RGB</td>\n",
       "      <td>&lt;PIL.JpegImagePlugin.JpegImageFile image mode=...</td>\n",
       "      <td>7.033750</td>\n",
       "    </tr>\n",
       "    <tr>\n",
       "      <th>4</th>\n",
       "      <td>image_4.jpg</td>\n",
       "      <td>2022-08-01</td>\n",
       "      <td>POINT (13.44700535080915 52.52719249588597)</td>\n",
       "      <td>RGB</td>\n",
       "      <td>&lt;PIL.JpegImagePlugin.JpegImageFile image mode=...</td>\n",
       "      <td>9.963125</td>\n",
       "    </tr>\n",
       "    <tr>\n",
       "      <th>5</th>\n",
       "      <td>image_5.jpg</td>\n",
       "      <td>2022-08-01</td>\n",
       "      <td>POINT (13.44700535080915 52.52719249588597)</td>\n",
       "      <td>RGB</td>\n",
       "      <td>&lt;PIL.JpegImagePlugin.JpegImageFile image mode=...</td>\n",
       "      <td>35.137500</td>\n",
       "    </tr>\n",
       "    <tr>\n",
       "      <th>6</th>\n",
       "      <td>image_6.jpg</td>\n",
       "      <td>2022-08-01</td>\n",
       "      <td>POINT (13.44700535080915 52.52719249588597)</td>\n",
       "      <td>RGB</td>\n",
       "      <td>&lt;PIL.JpegImagePlugin.JpegImageFile image mode=...</td>\n",
       "      <td>42.085625</td>\n",
       "    </tr>\n",
       "    <tr>\n",
       "      <th>7</th>\n",
       "      <td>image_7.jpg</td>\n",
       "      <td>2022-08-01</td>\n",
       "      <td>POINT (13.44700535080915 52.52719249588597)</td>\n",
       "      <td>RGB</td>\n",
       "      <td>&lt;PIL.JpegImagePlugin.JpegImageFile image mode=...</td>\n",
       "      <td>23.599375</td>\n",
       "    </tr>\n",
       "    <tr>\n",
       "      <th>8</th>\n",
       "      <td>image_8.jpg</td>\n",
       "      <td>2022-08-01</td>\n",
       "      <td>POINT (13.4287152 52.5375413)</td>\n",
       "      <td>RGB</td>\n",
       "      <td>&lt;PIL.JpegImagePlugin.JpegImageFile image mode=...</td>\n",
       "      <td>12.915000</td>\n",
       "    </tr>\n",
       "    <tr>\n",
       "      <th>9</th>\n",
       "      <td>image_9.jpg</td>\n",
       "      <td>2022-08-01</td>\n",
       "      <td>POINT (13.4287152 52.5375413)</td>\n",
       "      <td>RGB</td>\n",
       "      <td>&lt;PIL.JpegImagePlugin.JpegImageFile image mode=...</td>\n",
       "      <td>4.090000</td>\n",
       "    </tr>\n",
       "    <tr>\n",
       "      <th>10</th>\n",
       "      <td>image_10.jpg</td>\n",
       "      <td>2022-08-01</td>\n",
       "      <td>POINT (13.4287152 52.5375413)</td>\n",
       "      <td>RGB</td>\n",
       "      <td>&lt;PIL.JpegImagePlugin.JpegImageFile image mode=...</td>\n",
       "      <td>5.723750</td>\n",
       "    </tr>\n",
       "    <tr>\n",
       "      <th>11</th>\n",
       "      <td>image_11.jpg</td>\n",
       "      <td>2022-08-01</td>\n",
       "      <td>POINT (13.4287152 52.5375413)</td>\n",
       "      <td>RGB</td>\n",
       "      <td>&lt;PIL.JpegImagePlugin.JpegImageFile image mode=...</td>\n",
       "      <td>12.325625</td>\n",
       "    </tr>\n",
       "  </tbody>\n",
       "</table>\n",
       "</div>"
      ],
      "text/plain": [
       "        Filename        Date                                        Point  \\\n",
       "0    image_0.jpg  2022-09-01                 POINT (13.4477389 52.526513)   \n",
       "1    image_1.jpg  2022-09-01                 POINT (13.4477389 52.526513)   \n",
       "2    image_2.jpg  2022-09-01                 POINT (13.4477389 52.526513)   \n",
       "3    image_3.jpg  2022-09-01                 POINT (13.4477389 52.526513)   \n",
       "4    image_4.jpg  2022-08-01  POINT (13.44700535080915 52.52719249588597)   \n",
       "5    image_5.jpg  2022-08-01  POINT (13.44700535080915 52.52719249588597)   \n",
       "6    image_6.jpg  2022-08-01  POINT (13.44700535080915 52.52719249588597)   \n",
       "7    image_7.jpg  2022-08-01  POINT (13.44700535080915 52.52719249588597)   \n",
       "8    image_8.jpg  2022-08-01                POINT (13.4287152 52.5375413)   \n",
       "9    image_9.jpg  2022-08-01                POINT (13.4287152 52.5375413)   \n",
       "10  image_10.jpg  2022-08-01                POINT (13.4287152 52.5375413)   \n",
       "11  image_11.jpg  2022-08-01                POINT (13.4287152 52.5375413)   \n",
       "\n",
       "   OriginalMode                                              Image        gvi  \n",
       "0           RGB  <PIL.JpegImagePlugin.JpegImageFile image mode=...  10.266875  \n",
       "1           RGB  <PIL.JpegImagePlugin.JpegImageFile image mode=...  12.220625  \n",
       "2           RGB  <PIL.JpegImagePlugin.JpegImageFile image mode=...   4.751875  \n",
       "3           RGB  <PIL.JpegImagePlugin.JpegImageFile image mode=...   7.033750  \n",
       "4           RGB  <PIL.JpegImagePlugin.JpegImageFile image mode=...   9.963125  \n",
       "5           RGB  <PIL.JpegImagePlugin.JpegImageFile image mode=...  35.137500  \n",
       "6           RGB  <PIL.JpegImagePlugin.JpegImageFile image mode=...  42.085625  \n",
       "7           RGB  <PIL.JpegImagePlugin.JpegImageFile image mode=...  23.599375  \n",
       "8           RGB  <PIL.JpegImagePlugin.JpegImageFile image mode=...  12.915000  \n",
       "9           RGB  <PIL.JpegImagePlugin.JpegImageFile image mode=...   4.090000  \n",
       "10          RGB  <PIL.JpegImagePlugin.JpegImageFile image mode=...   5.723750  \n",
       "11          RGB  <PIL.JpegImagePlugin.JpegImageFile image mode=...  12.325625  "
      ]
     },
     "execution_count": 8,
     "metadata": {},
     "output_type": "execute_result"
    }
   ],
   "source": [
    "df"
   ]
  },
  {
   "cell_type": "code",
   "execution_count": null,
   "metadata": {},
   "outputs": [],
   "source": [
    "df['Point'] = df['Point'].apply(wkt.loads)"
   ]
  },
  {
   "cell_type": "code",
   "execution_count": null,
   "metadata": {},
   "outputs": [],
   "source": [
    "gdf = gpd.GeoDataFrame(df, crs='epsg:4326', geometry='Point')"
   ]
  },
  {
   "cell_type": "code",
   "execution_count": null,
   "metadata": {},
   "outputs": [],
   "source": [
    "gdf['lon'] = gdf['Point'].apply(lambda x: x.x)\n",
    "gdf['lat']  = gdf['Point'].apply(lambda x: x.y)"
   ]
  },
  {
   "cell_type": "code",
   "execution_count": null,
   "metadata": {},
   "outputs": [],
   "source": [
    "gdf['Date'] = pd.to_datetime(gdf['Date'])\n",
    "gdf"
   ]
  },
  {
   "cell_type": "code",
   "execution_count": null,
   "metadata": {},
   "outputs": [],
   "source": []
  },
  {
   "cell_type": "markdown",
   "metadata": {},
   "source": [
    "#### add street names & street lentgh"
   ]
  },
  {
   "cell_type": "code",
   "execution_count": null,
   "metadata": {},
   "outputs": [],
   "source": [
    "polygon = [[ 13.335820607449087, 52.479180814784826 ], [ 13.319144034173492, 52.481940744889087 ], [ 13.319144034173492, 52.481940744889087 ], [ 13.303192529301191, 52.491654321569996 ], [ 13.287966092832171, 52.502689873200431 ], [ 13.293041571655179, 52.511516320373843 ], [ 13.288691161235455, 52.519899803498745 ], [ 13.29014129804203, 52.526958338172669 ], [ 13.301017324091331, 52.528281687156365 ], [ 13.324219512996502, 52.530046090443768 ], [ 13.353222249127967, 52.534015738673432 ], [ 13.36337320677398, 52.538426038072501 ], [ 13.380774848452859, 52.545481595702277 ], [ 13.398176490131736, 52.54636346067177 ], [ 13.411227721390897, 52.546804386512193 ], [ 13.42355388424677, 52.541953958639048 ], [ 13.432979773489496, 52.539749041508585 ], [ 13.439505389119075, 52.537985028067389 ], [ 13.44675607315194, 52.534456788548354 ], [ 13.45183155197495, 52.526958338172669 ], [ 13.456907030797952, 52.524311520584895 ], [ 13.462707578024245, 52.523208632849773 ], [ 13.469958262057109, 52.518796804998914 ], [ 13.473583604073546, 52.513943282616047 ], [ 13.473583604073546, 52.509309874748915 ], [ 13.470683330460398, 52.505117322867868 ], [ 13.466695454242322, 52.500703678312291 ], [ 13.464882783234104, 52.497834571715572 ], [ 13.461257441217672, 52.494744555219448 ], [ 13.45799463340288, 52.492316532775945 ], [ 13.457632099201236, 52.489115752903984 ], [ 13.457088297898771, 52.486797801367324 ], [ 13.457088297898771, 52.484038175975996 ], [ 13.456000695293843, 52.4796224152363 ], [ 13.454913092688912, 52.473770849536344 ], [ 13.452375353277407, 52.472114604750061 ], [ 13.444218333740436, 52.470789564040665 ], [ 13.439505389119072, 52.469685332974741 ], [ 13.432073437985386, 52.468470646803397 ], [ 13.426816692061557, 52.46791850564356 ], [ 13.420834877734441, 52.467145496383672 ], [ 13.415396864709793, 52.466262040606331 ], [ 13.408508714878566, 52.465489002255779 ], [ 13.402889434753099, 52.465709871741218 ], [ 13.39781395593009, 52.467366357557452 ], [ 13.394732415216122, 52.468912354744376 ], [ 13.389294402191474, 52.470789564040665 ], [ 13.383131320763537, 52.471728138664126 ], [ 13.378055841940533, 52.472335440989724 ], [ 13.374067965722457, 52.472280232033704 ], [ 13.370533257256433, 52.472280232033704 ], [ 13.368720586248219, 52.472997943059788 ], [ 13.367361082992057, 52.473770849536344 ], [ 13.366545381038357, 52.475427031989611 ], [ 13.365185877782197, 52.477248760694756 ], [ 13.363645107425214, 52.478352801991761 ], [ 13.361379268664942, 52.47956721542225 ], [ 13.35893216280385, 52.480340006516634 ], [ 13.355034920136184, 52.480395205361077 ], [ 13.351500211670158, 52.479953612666179 ], [ 13.348781205157836, 52.478960012896962 ], [ 13.346062198645511, 52.478628807987505 ], [ 13.343886993435651, 52.479015213472806 ], [ 13.341258620473734, 52.479346415473572 ], [ 13.339174048814286, 52.479291215313218 ], [ 13.335820607449087, 52.479180814784826 ]]"
   ]
  },
  {
   "cell_type": "code",
   "execution_count": null,
   "metadata": {},
   "outputs": [],
   "source": [
    "polygon = Polygon(polygon)"
   ]
  },
  {
   "cell_type": "code",
   "execution_count": null,
   "metadata": {},
   "outputs": [],
   "source": [
    "G = ox.graph_from_polygon(polygon=polygon, simplify=True, network_type='drive')"
   ]
  },
  {
   "cell_type": "code",
   "execution_count": 4,
   "metadata": {},
   "outputs": [],
   "source": [
    "def get_edges(G, lon: pd.Series, lat: pd.Series) -> list:\n",
    "    try:\n",
    "        edges = ox.nearest_edges(G, [lon], [lat])\n",
    "        edges = list(dict.fromkeys(edges))  \n",
    "        return [k[0:2] for k in edges]\n",
    "    except Exception as e:\n",
    "        return []"
   ]
  },
  {
   "cell_type": "code",
   "execution_count": null,
   "metadata": {},
   "outputs": [],
   "source": [
    "gdf['edges'] = gdf.apply(lambda row: get_edges(G, row['lon'], row['lat']), axis=1)"
   ]
  },
  {
   "cell_type": "code",
   "execution_count": null,
   "metadata": {},
   "outputs": [],
   "source": [
    "gdf['edges'] = gdf['edges'].apply(lambda edges: [tuple(edge) for edge in edges])"
   ]
  },
  {
   "cell_type": "code",
   "execution_count": 3,
   "metadata": {},
   "outputs": [],
   "source": [
    "def extract_edge_data(edge_list: list, G):\n",
    "\n",
    "    if not edge_list:\n",
    "        return None, None\n",
    "    \n",
    "    u, v = edge_list[0]\n",
    "    edge_data = G.get_edge_data(u, v)\n",
    "    \n",
    "    if edge_data is not None:\n",
    "        data = edge_data.get(0, {})\n",
    "        geometry = data.get('geometry', None)\n",
    "        name = data.get('name', None)\n",
    "        \n",
    "        if not isinstance(geometry, LineString):\n",
    "            geometry = None\n",
    "        \n",
    "        return geometry, name\n",
    "    else:\n",
    "        return None, None"
   ]
  },
  {
   "cell_type": "code",
   "execution_count": null,
   "metadata": {},
   "outputs": [],
   "source": [
    "gdf[['edge_geometry', 'edge_name']] = gdf['edges'].apply(lambda edges: pd.Series(extract_edge_data(edges, G)))"
   ]
  },
  {
   "cell_type": "code",
   "execution_count": null,
   "metadata": {},
   "outputs": [],
   "source": [
    "gdf.rename(columns={'edge_geometry': 'geometry'}, inplace=True)\n",
    "gdf.set_geometry('geometry', inplace=True)"
   ]
  },
  {
   "cell_type": "code",
   "execution_count": null,
   "metadata": {},
   "outputs": [],
   "source": [
    "gdf['length'] = gdf['geometry'].apply(lambda x: (x.length*1000))"
   ]
  },
  {
   "cell_type": "code",
   "execution_count": null,
   "metadata": {},
   "outputs": [],
   "source": [
    "# set GVI in relation to total length of street for making data more relvant.\n",
    "# This assumes that people prefer a least turn route choice while byking.\n",
    "gdf['ratio'] = (gdf['gvi']/gdf['length'])"
   ]
  },
  {
   "cell_type": "code",
   "execution_count": null,
   "metadata": {},
   "outputs": [],
   "source": [
    "gdf.head(2)"
   ]
  },
  {
   "cell_type": "code",
   "execution_count": null,
   "metadata": {},
   "outputs": [],
   "source": []
  },
  {
   "cell_type": "markdown",
   "metadata": {},
   "source": [
    "#### take into accout bike lane network"
   ]
  },
  {
   "cell_type": "code",
   "execution_count": null,
   "metadata": {},
   "outputs": [],
   "source": [
    "# https://gdi.berlin.de/geonetwork/srv/ger/catalog.search#/metadata/0c37901e-f16f-3c4d-aa0b-10e1bde35af2\n",
    "bike_df =gpd.read_file('../data/bike_network.json')"
   ]
  },
  {
   "cell_type": "code",
   "execution_count": null,
   "metadata": {},
   "outputs": [],
   "source": [
    "bike_df.set_index('gisid', inplace=True)"
   ]
  },
  {
   "cell_type": "code",
   "execution_count": null,
   "metadata": {},
   "outputs": [],
   "source": [
    "#set buffer for sjoin --> merge bike lane data with gvi\n",
    "gdf['buffer'] = gdf['geometry'].buffer(distance=0.0001)"
   ]
  },
  {
   "cell_type": "code",
   "execution_count": null,
   "metadata": {},
   "outputs": [],
   "source": [
    "m = folium.Map(location=[gdf.geometry.centroid.y.mean(), gdf.geometry.centroid.x.mean()], zoom_start=10)\n",
    "\n",
    "for _, row in gdf.iterrows():\n",
    "    folium.GeoJson(row['buffer'].__geo_interface__).add_to(m)\n",
    "    \n",
    "for _, row in bike_df.iterrows():\n",
    "    folium.GeoJson(row['geometry'].__geo_interface__, style_function=lambda x: {'color': 'green'}).add_to(m)\n",
    "\n",
    "m"
   ]
  },
  {
   "cell_type": "code",
   "execution_count": null,
   "metadata": {},
   "outputs": [],
   "source": [
    "result = gpd.sjoin(gdf, bike_df, how='left',predicate = \"intersects\" )"
   ]
  },
  {
   "cell_type": "code",
   "execution_count": null,
   "metadata": {},
   "outputs": [],
   "source": [
    "# for droping duplicates\n",
    "result.drop(['elem_nr', 'index_right'], inplace=True, axis=1)"
   ]
  },
  {
   "cell_type": "code",
   "execution_count": null,
   "metadata": {},
   "outputs": [],
   "source": [
    "result"
   ]
  },
  {
   "cell_type": "code",
   "execution_count": null,
   "metadata": {},
   "outputs": [],
   "source": [
    "# multiple edge lane starts intersect with a single bikelane \n",
    "#result.drop_duplicates(keep='first', inplace=True)"
   ]
  },
  {
   "cell_type": "code",
   "execution_count": null,
   "metadata": {},
   "outputs": [],
   "source": []
  },
  {
   "cell_type": "markdown",
   "metadata": {},
   "source": [
    "####  Berlin's Least Inviting Streets for Cyclists"
   ]
  },
  {
   "cell_type": "code",
   "execution_count": null,
   "metadata": {},
   "outputs": [],
   "source": [
    "top10 = result"
   ]
  },
  {
   "cell_type": "code",
   "execution_count": null,
   "metadata": {},
   "outputs": [],
   "source": [
    "top10 = top10[top10['existenz'] != 'ja, in Straßennetz']"
   ]
  },
  {
   "cell_type": "code",
   "execution_count": null,
   "metadata": {},
   "outputs": [],
   "source": [
    "top10 = top10.groupby('edge_name').agg({'gvi': 'mean', 'length':'sum', 'ratio':'mean'}).reset_index()"
   ]
  },
  {
   "cell_type": "code",
   "execution_count": null,
   "metadata": {},
   "outputs": [],
   "source": [
    "# get a certain length for a more represantive bike activity\n",
    "#top10 = top10[top10['length']>10]"
   ]
  },
  {
   "cell_type": "code",
   "execution_count": null,
   "metadata": {},
   "outputs": [],
   "source": [
    "top10.nsmallest(10, 'ratio')"
   ]
  },
  {
   "cell_type": "code",
   "execution_count": null,
   "metadata": {},
   "outputs": [],
   "source": []
  }
 ],
 "metadata": {
  "kernelspec": {
   "display_name": "Python 3",
   "language": "python",
   "name": "python3"
  },
  "language_info": {
   "codemirror_mode": {
    "name": "ipython",
    "version": 3
   },
   "file_extension": ".py",
   "mimetype": "text/x-python",
   "name": "python",
   "nbconvert_exporter": "python",
   "pygments_lexer": "ipython3",
   "version": "3.11.10"
  }
 },
 "nbformat": 4,
 "nbformat_minor": 2
}
